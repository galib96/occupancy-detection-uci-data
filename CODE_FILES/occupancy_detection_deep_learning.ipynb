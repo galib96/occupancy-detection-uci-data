{
  "nbformat": 4,
  "nbformat_minor": 0,
  "metadata": {
    "orig_nbformat": 2,
    "kernelspec": {
      "name": "python3",
      "display_name": "Python 3"
    },
    "metadata": {
      "interpreter": {
        "hash": "2b7b5a710781a87842cfe8010c06442799678ef166246941c85da77d9a8410c1"
      }
    },
    "colab": {
      "name": "occupancy_detection-deep-learning.ipynb",
      "provenance": [],
      "collapsed_sections": []
    },
    "language_info": {
      "name": "python"
    }
  },
  "cells": [
    {
      "cell_type": "code",
      "metadata": {
        "id": "IOmR-wjlOklb",
        "colab": {
          "base_uri": "https://localhost:8080/"
        },
        "outputId": "c6a720fd-c00f-4874-fa17-37b2e0a2d21b"
      },
      "source": [
        "import pandas as pd\n",
        "import numpy as np\n",
        "from scipy.stats import pearsonr\n",
        "import openpyxl\n",
        "\n",
        "import matplotlib.pyplot as plt\n",
        "import seaborn as sns\n",
        "\n",
        "from sklearn.utils import resample\n",
        "from sklearn.preprocessing import StandardScaler, RobustScaler\n",
        "from sklearn.model_selection import train_test_split\n",
        "\n",
        "from imblearn.pipeline import Pipeline, make_pipeline\n",
        "from imblearn.over_sampling import SMOTE, BorderlineSMOTE\n",
        "\n",
        "from sklearn.ensemble import RandomForestClassifier\n",
        "from sklearn.model_selection import RandomizedSearchCV\n",
        "from sklearn.metrics import accuracy_score, f1_score, confusion_matrix, precision_score, recall_score, plot_confusion_matrix\n",
        "\n",
        "import tensorflow as tf\n",
        "from tensorflow.keras.models import Sequential\n",
        "from tensorflow.keras.layers import Dense, Dropout, BatchNormalization, LeakyReLU, ReLU\n",
        "from tensorflow.keras.regularizers import l1,l2\n",
        "from tensorflow.keras.optimizers import Adam, RMSprop\n",
        "from tensorflow.keras.callbacks import EarlyStopping, LambdaCallback\n",
        "\n",
        "%matplotlib inline"
      ],
      "execution_count": null,
      "outputs": [
        {
          "output_type": "stream",
          "text": [
            "/usr/local/lib/python3.7/dist-packages/sklearn/externals/six.py:31: FutureWarning: The module is deprecated in version 0.21 and will be removed in version 0.23 since we've dropped support for Python 2.7. Please rely on the official version of six (https://pypi.org/project/six/).\n",
            "  \"(https://pypi.org/project/six/).\", FutureWarning)\n",
            "/usr/local/lib/python3.7/dist-packages/sklearn/utils/deprecation.py:144: FutureWarning: The sklearn.neighbors.base module is  deprecated in version 0.22 and will be removed in version 0.24. The corresponding classes / functions should instead be imported from sklearn.neighbors. Anything that cannot be imported from sklearn.neighbors is now part of the private API.\n",
            "  warnings.warn(message, FutureWarning)\n"
          ],
          "name": "stderr"
        }
      ]
    },
    {
      "cell_type": "code",
      "metadata": {
        "colab": {
          "base_uri": "https://localhost:8080/",
          "height": 221
        },
        "id": "YUXA9vdaOkll",
        "outputId": "27178e4e-873c-4618-caa2-6aee59709cbb"
      },
      "source": [
        "# import dataset\n",
        "df_train = pd.read_csv(\"https://raw.githubusercontent.com/galib96/occupancy-detection-uci-data/main/DATASET/datatraining.txt\", sep=\",\")\n",
        "\n",
        "# check shape of the dataset\n",
        "print(df_train.shape)\n",
        "\n",
        "# check overview of the trainset\n",
        "df_train.head()"
      ],
      "execution_count": null,
      "outputs": [
        {
          "output_type": "stream",
          "text": [
            "(8143, 7)\n"
          ],
          "name": "stdout"
        },
        {
          "output_type": "execute_result",
          "data": {
            "text/html": [
              "<div>\n",
              "<style scoped>\n",
              "    .dataframe tbody tr th:only-of-type {\n",
              "        vertical-align: middle;\n",
              "    }\n",
              "\n",
              "    .dataframe tbody tr th {\n",
              "        vertical-align: top;\n",
              "    }\n",
              "\n",
              "    .dataframe thead th {\n",
              "        text-align: right;\n",
              "    }\n",
              "</style>\n",
              "<table border=\"1\" class=\"dataframe\">\n",
              "  <thead>\n",
              "    <tr style=\"text-align: right;\">\n",
              "      <th></th>\n",
              "      <th>date</th>\n",
              "      <th>Temperature</th>\n",
              "      <th>Humidity</th>\n",
              "      <th>Light</th>\n",
              "      <th>CO2</th>\n",
              "      <th>HumidityRatio</th>\n",
              "      <th>Occupancy</th>\n",
              "    </tr>\n",
              "  </thead>\n",
              "  <tbody>\n",
              "    <tr>\n",
              "      <th>1</th>\n",
              "      <td>2015-02-04 17:51:00</td>\n",
              "      <td>23.18</td>\n",
              "      <td>27.2720</td>\n",
              "      <td>426.0</td>\n",
              "      <td>721.25</td>\n",
              "      <td>0.004793</td>\n",
              "      <td>1</td>\n",
              "    </tr>\n",
              "    <tr>\n",
              "      <th>2</th>\n",
              "      <td>2015-02-04 17:51:59</td>\n",
              "      <td>23.15</td>\n",
              "      <td>27.2675</td>\n",
              "      <td>429.5</td>\n",
              "      <td>714.00</td>\n",
              "      <td>0.004783</td>\n",
              "      <td>1</td>\n",
              "    </tr>\n",
              "    <tr>\n",
              "      <th>3</th>\n",
              "      <td>2015-02-04 17:53:00</td>\n",
              "      <td>23.15</td>\n",
              "      <td>27.2450</td>\n",
              "      <td>426.0</td>\n",
              "      <td>713.50</td>\n",
              "      <td>0.004779</td>\n",
              "      <td>1</td>\n",
              "    </tr>\n",
              "    <tr>\n",
              "      <th>4</th>\n",
              "      <td>2015-02-04 17:54:00</td>\n",
              "      <td>23.15</td>\n",
              "      <td>27.2000</td>\n",
              "      <td>426.0</td>\n",
              "      <td>708.25</td>\n",
              "      <td>0.004772</td>\n",
              "      <td>1</td>\n",
              "    </tr>\n",
              "    <tr>\n",
              "      <th>5</th>\n",
              "      <td>2015-02-04 17:55:00</td>\n",
              "      <td>23.10</td>\n",
              "      <td>27.2000</td>\n",
              "      <td>426.0</td>\n",
              "      <td>704.50</td>\n",
              "      <td>0.004757</td>\n",
              "      <td>1</td>\n",
              "    </tr>\n",
              "  </tbody>\n",
              "</table>\n",
              "</div>"
            ],
            "text/plain": [
              "                  date  Temperature  Humidity  ...     CO2  HumidityRatio  Occupancy\n",
              "1  2015-02-04 17:51:00        23.18   27.2720  ...  721.25       0.004793          1\n",
              "2  2015-02-04 17:51:59        23.15   27.2675  ...  714.00       0.004783          1\n",
              "3  2015-02-04 17:53:00        23.15   27.2450  ...  713.50       0.004779          1\n",
              "4  2015-02-04 17:54:00        23.15   27.2000  ...  708.25       0.004772          1\n",
              "5  2015-02-04 17:55:00        23.10   27.2000  ...  704.50       0.004757          1\n",
              "\n",
              "[5 rows x 7 columns]"
            ]
          },
          "metadata": {
            "tags": []
          },
          "execution_count": 2
        }
      ]
    },
    {
      "cell_type": "code",
      "metadata": {
        "colab": {
          "base_uri": "https://localhost:8080/",
          "height": 221
        },
        "id": "6TTOSmiTOkln",
        "outputId": "61624617-6270-4ea4-8d18-c051c62c0337"
      },
      "source": [
        "# import dataset\n",
        "df_test_1 = pd.read_csv(\"https://raw.githubusercontent.com/galib96/occupancy-detection-uci-data/main/DATASET/datatest.txt\", sep=\",\")\n",
        "\n",
        "# check shape of the dataset\n",
        "print(df_test_1.shape)\n",
        "\n",
        "# check overview of the trainset\n",
        "df_test_1.head()"
      ],
      "execution_count": null,
      "outputs": [
        {
          "output_type": "stream",
          "text": [
            "(2665, 7)\n"
          ],
          "name": "stdout"
        },
        {
          "output_type": "execute_result",
          "data": {
            "text/html": [
              "<div>\n",
              "<style scoped>\n",
              "    .dataframe tbody tr th:only-of-type {\n",
              "        vertical-align: middle;\n",
              "    }\n",
              "\n",
              "    .dataframe tbody tr th {\n",
              "        vertical-align: top;\n",
              "    }\n",
              "\n",
              "    .dataframe thead th {\n",
              "        text-align: right;\n",
              "    }\n",
              "</style>\n",
              "<table border=\"1\" class=\"dataframe\">\n",
              "  <thead>\n",
              "    <tr style=\"text-align: right;\">\n",
              "      <th></th>\n",
              "      <th>date</th>\n",
              "      <th>Temperature</th>\n",
              "      <th>Humidity</th>\n",
              "      <th>Light</th>\n",
              "      <th>CO2</th>\n",
              "      <th>HumidityRatio</th>\n",
              "      <th>Occupancy</th>\n",
              "    </tr>\n",
              "  </thead>\n",
              "  <tbody>\n",
              "    <tr>\n",
              "      <th>140</th>\n",
              "      <td>2015-02-02 14:19:00</td>\n",
              "      <td>23.7000</td>\n",
              "      <td>26.272</td>\n",
              "      <td>585.200000</td>\n",
              "      <td>749.200000</td>\n",
              "      <td>0.004764</td>\n",
              "      <td>1</td>\n",
              "    </tr>\n",
              "    <tr>\n",
              "      <th>141</th>\n",
              "      <td>2015-02-02 14:19:59</td>\n",
              "      <td>23.7180</td>\n",
              "      <td>26.290</td>\n",
              "      <td>578.400000</td>\n",
              "      <td>760.400000</td>\n",
              "      <td>0.004773</td>\n",
              "      <td>1</td>\n",
              "    </tr>\n",
              "    <tr>\n",
              "      <th>142</th>\n",
              "      <td>2015-02-02 14:21:00</td>\n",
              "      <td>23.7300</td>\n",
              "      <td>26.230</td>\n",
              "      <td>572.666667</td>\n",
              "      <td>769.666667</td>\n",
              "      <td>0.004765</td>\n",
              "      <td>1</td>\n",
              "    </tr>\n",
              "    <tr>\n",
              "      <th>143</th>\n",
              "      <td>2015-02-02 14:22:00</td>\n",
              "      <td>23.7225</td>\n",
              "      <td>26.125</td>\n",
              "      <td>493.750000</td>\n",
              "      <td>774.750000</td>\n",
              "      <td>0.004744</td>\n",
              "      <td>1</td>\n",
              "    </tr>\n",
              "    <tr>\n",
              "      <th>144</th>\n",
              "      <td>2015-02-02 14:23:00</td>\n",
              "      <td>23.7540</td>\n",
              "      <td>26.200</td>\n",
              "      <td>488.600000</td>\n",
              "      <td>779.000000</td>\n",
              "      <td>0.004767</td>\n",
              "      <td>1</td>\n",
              "    </tr>\n",
              "  </tbody>\n",
              "</table>\n",
              "</div>"
            ],
            "text/plain": [
              "                    date  Temperature  ...  HumidityRatio  Occupancy\n",
              "140  2015-02-02 14:19:00      23.7000  ...       0.004764          1\n",
              "141  2015-02-02 14:19:59      23.7180  ...       0.004773          1\n",
              "142  2015-02-02 14:21:00      23.7300  ...       0.004765          1\n",
              "143  2015-02-02 14:22:00      23.7225  ...       0.004744          1\n",
              "144  2015-02-02 14:23:00      23.7540  ...       0.004767          1\n",
              "\n",
              "[5 rows x 7 columns]"
            ]
          },
          "metadata": {
            "tags": []
          },
          "execution_count": 3
        }
      ]
    },
    {
      "cell_type": "code",
      "metadata": {
        "colab": {
          "base_uri": "https://localhost:8080/",
          "height": 221
        },
        "id": "IJQDyHIOOkln",
        "outputId": "552b7be4-31cb-4409-cb5e-771514ce3c32"
      },
      "source": [
        "# import dataset\n",
        "df_test_2 = pd.read_csv(\"https://raw.githubusercontent.com/galib96/occupancy-detection-uci-data/main/DATASET/datatest2.txt\", sep=\",\")\n",
        "\n",
        "# check shape of the dataset\n",
        "print(df_test_2.shape)\n",
        "\n",
        "# check overview of the trainset\n",
        "df_test_2.head()"
      ],
      "execution_count": null,
      "outputs": [
        {
          "output_type": "stream",
          "text": [
            "(9752, 7)\n"
          ],
          "name": "stdout"
        },
        {
          "output_type": "execute_result",
          "data": {
            "text/html": [
              "<div>\n",
              "<style scoped>\n",
              "    .dataframe tbody tr th:only-of-type {\n",
              "        vertical-align: middle;\n",
              "    }\n",
              "\n",
              "    .dataframe tbody tr th {\n",
              "        vertical-align: top;\n",
              "    }\n",
              "\n",
              "    .dataframe thead th {\n",
              "        text-align: right;\n",
              "    }\n",
              "</style>\n",
              "<table border=\"1\" class=\"dataframe\">\n",
              "  <thead>\n",
              "    <tr style=\"text-align: right;\">\n",
              "      <th></th>\n",
              "      <th>date</th>\n",
              "      <th>Temperature</th>\n",
              "      <th>Humidity</th>\n",
              "      <th>Light</th>\n",
              "      <th>CO2</th>\n",
              "      <th>HumidityRatio</th>\n",
              "      <th>Occupancy</th>\n",
              "    </tr>\n",
              "  </thead>\n",
              "  <tbody>\n",
              "    <tr>\n",
              "      <th>1</th>\n",
              "      <td>2015-02-11 14:48:00</td>\n",
              "      <td>21.7600</td>\n",
              "      <td>31.133333</td>\n",
              "      <td>437.333333</td>\n",
              "      <td>1029.666667</td>\n",
              "      <td>0.005021</td>\n",
              "      <td>1</td>\n",
              "    </tr>\n",
              "    <tr>\n",
              "      <th>2</th>\n",
              "      <td>2015-02-11 14:49:00</td>\n",
              "      <td>21.7900</td>\n",
              "      <td>31.000000</td>\n",
              "      <td>437.333333</td>\n",
              "      <td>1000.000000</td>\n",
              "      <td>0.005009</td>\n",
              "      <td>1</td>\n",
              "    </tr>\n",
              "    <tr>\n",
              "      <th>3</th>\n",
              "      <td>2015-02-11 14:50:00</td>\n",
              "      <td>21.7675</td>\n",
              "      <td>31.122500</td>\n",
              "      <td>434.000000</td>\n",
              "      <td>1003.750000</td>\n",
              "      <td>0.005022</td>\n",
              "      <td>1</td>\n",
              "    </tr>\n",
              "    <tr>\n",
              "      <th>4</th>\n",
              "      <td>2015-02-11 14:51:00</td>\n",
              "      <td>21.7675</td>\n",
              "      <td>31.122500</td>\n",
              "      <td>439.000000</td>\n",
              "      <td>1009.500000</td>\n",
              "      <td>0.005022</td>\n",
              "      <td>1</td>\n",
              "    </tr>\n",
              "    <tr>\n",
              "      <th>5</th>\n",
              "      <td>2015-02-11 14:51:59</td>\n",
              "      <td>21.7900</td>\n",
              "      <td>31.133333</td>\n",
              "      <td>437.333333</td>\n",
              "      <td>1005.666667</td>\n",
              "      <td>0.005030</td>\n",
              "      <td>1</td>\n",
              "    </tr>\n",
              "  </tbody>\n",
              "</table>\n",
              "</div>"
            ],
            "text/plain": [
              "                  date  Temperature  ...  HumidityRatio  Occupancy\n",
              "1  2015-02-11 14:48:00      21.7600  ...       0.005021          1\n",
              "2  2015-02-11 14:49:00      21.7900  ...       0.005009          1\n",
              "3  2015-02-11 14:50:00      21.7675  ...       0.005022          1\n",
              "4  2015-02-11 14:51:00      21.7675  ...       0.005022          1\n",
              "5  2015-02-11 14:51:59      21.7900  ...       0.005030          1\n",
              "\n",
              "[5 rows x 7 columns]"
            ]
          },
          "metadata": {
            "tags": []
          },
          "execution_count": 4
        }
      ]
    },
    {
      "cell_type": "code",
      "metadata": {
        "colab": {
          "base_uri": "https://localhost:8080/",
          "height": 204
        },
        "id": "z0KXHKAvOklo",
        "outputId": "228d319d-3fd9-4d93-e47a-d52986e4754c"
      },
      "source": [
        "df_train.drop('date',inplace=True, axis=1)\n",
        "df_test_1.drop('date',inplace=True, axis=1)\n",
        "df_test_2.drop('date',inplace=True, axis=1)\n",
        "\n",
        "df_train.head()"
      ],
      "execution_count": null,
      "outputs": [
        {
          "output_type": "execute_result",
          "data": {
            "text/html": [
              "<div>\n",
              "<style scoped>\n",
              "    .dataframe tbody tr th:only-of-type {\n",
              "        vertical-align: middle;\n",
              "    }\n",
              "\n",
              "    .dataframe tbody tr th {\n",
              "        vertical-align: top;\n",
              "    }\n",
              "\n",
              "    .dataframe thead th {\n",
              "        text-align: right;\n",
              "    }\n",
              "</style>\n",
              "<table border=\"1\" class=\"dataframe\">\n",
              "  <thead>\n",
              "    <tr style=\"text-align: right;\">\n",
              "      <th></th>\n",
              "      <th>Temperature</th>\n",
              "      <th>Humidity</th>\n",
              "      <th>Light</th>\n",
              "      <th>CO2</th>\n",
              "      <th>HumidityRatio</th>\n",
              "      <th>Occupancy</th>\n",
              "    </tr>\n",
              "  </thead>\n",
              "  <tbody>\n",
              "    <tr>\n",
              "      <th>1</th>\n",
              "      <td>23.18</td>\n",
              "      <td>27.2720</td>\n",
              "      <td>426.0</td>\n",
              "      <td>721.25</td>\n",
              "      <td>0.004793</td>\n",
              "      <td>1</td>\n",
              "    </tr>\n",
              "    <tr>\n",
              "      <th>2</th>\n",
              "      <td>23.15</td>\n",
              "      <td>27.2675</td>\n",
              "      <td>429.5</td>\n",
              "      <td>714.00</td>\n",
              "      <td>0.004783</td>\n",
              "      <td>1</td>\n",
              "    </tr>\n",
              "    <tr>\n",
              "      <th>3</th>\n",
              "      <td>23.15</td>\n",
              "      <td>27.2450</td>\n",
              "      <td>426.0</td>\n",
              "      <td>713.50</td>\n",
              "      <td>0.004779</td>\n",
              "      <td>1</td>\n",
              "    </tr>\n",
              "    <tr>\n",
              "      <th>4</th>\n",
              "      <td>23.15</td>\n",
              "      <td>27.2000</td>\n",
              "      <td>426.0</td>\n",
              "      <td>708.25</td>\n",
              "      <td>0.004772</td>\n",
              "      <td>1</td>\n",
              "    </tr>\n",
              "    <tr>\n",
              "      <th>5</th>\n",
              "      <td>23.10</td>\n",
              "      <td>27.2000</td>\n",
              "      <td>426.0</td>\n",
              "      <td>704.50</td>\n",
              "      <td>0.004757</td>\n",
              "      <td>1</td>\n",
              "    </tr>\n",
              "  </tbody>\n",
              "</table>\n",
              "</div>"
            ],
            "text/plain": [
              "   Temperature  Humidity  Light     CO2  HumidityRatio  Occupancy\n",
              "1        23.18   27.2720  426.0  721.25       0.004793          1\n",
              "2        23.15   27.2675  429.5  714.00       0.004783          1\n",
              "3        23.15   27.2450  426.0  713.50       0.004779          1\n",
              "4        23.15   27.2000  426.0  708.25       0.004772          1\n",
              "5        23.10   27.2000  426.0  704.50       0.004757          1"
            ]
          },
          "metadata": {
            "tags": []
          },
          "execution_count": 5
        }
      ]
    },
    {
      "cell_type": "code",
      "metadata": {
        "colab": {
          "base_uri": "https://localhost:8080/",
          "height": 347
        },
        "id": "1BjfUPkPOklp",
        "outputId": "42b742db-47bd-478e-8d48-27f5bb08ff67"
      },
      "source": [
        "corr = df_train.corr(method='pearson')\n",
        "sns.heatmap(corr, cmap=\"RdPu\", annot=True)"
      ],
      "execution_count": null,
      "outputs": [
        {
          "output_type": "execute_result",
          "data": {
            "text/plain": [
              "<matplotlib.axes._subplots.AxesSubplot at 0x7f71ab7667d0>"
            ]
          },
          "metadata": {
            "tags": []
          },
          "execution_count": 6
        },
        {
          "output_type": "display_data",
          "data": {
            "image/png": "[encoded data removed]",
            "text/plain": [
              "<Figure size 432x288 with 2 Axes>"
            ]
          },
          "metadata": {
            "tags": [],
            "needs_background": "light"
          }
        }
      ]
    },
    {
      "cell_type": "code",
      "metadata": {
        "colab": {
          "base_uri": "https://localhost:8080/",
          "height": 235
        },
        "id": "gnIbuyi2Oklp",
        "outputId": "771d9c9d-f32a-4187-dd00-0ea9c9ea1e79"
      },
      "source": [
        "df_train.corr(method=lambda x, y: pearsonr(x, y)[1]) - np.eye(len(df_train.columns))"
      ],
      "execution_count": null,
      "outputs": [
        {
          "output_type": "execute_result",
          "data": {
            "text/html": [
              "<div>\n",
              "<style scoped>\n",
              "    .dataframe tbody tr th:only-of-type {\n",
              "        vertical-align: middle;\n",
              "    }\n",
              "\n",
              "    .dataframe tbody tr th {\n",
              "        vertical-align: top;\n",
              "    }\n",
              "\n",
              "    .dataframe thead th {\n",
              "        text-align: right;\n",
              "    }\n",
              "</style>\n",
              "<table border=\"1\" class=\"dataframe\">\n",
              "  <thead>\n",
              "    <tr style=\"text-align: right;\">\n",
              "      <th></th>\n",
              "      <th>Temperature</th>\n",
              "      <th>Humidity</th>\n",
              "      <th>Light</th>\n",
              "      <th>CO2</th>\n",
              "      <th>HumidityRatio</th>\n",
              "      <th>Occupancy</th>\n",
              "    </tr>\n",
              "  </thead>\n",
              "  <tbody>\n",
              "    <tr>\n",
              "      <th>Temperature</th>\n",
              "      <td>0.000000e+00</td>\n",
              "      <td>8.045844e-38</td>\n",
              "      <td>0.000000e+00</td>\n",
              "      <td>0.0</td>\n",
              "      <td>3.731142e-43</td>\n",
              "      <td>0.000000e+00</td>\n",
              "    </tr>\n",
              "    <tr>\n",
              "      <th>Humidity</th>\n",
              "      <td>8.045844e-38</td>\n",
              "      <td>0.000000e+00</td>\n",
              "      <td>6.396081e-04</td>\n",
              "      <td>0.0</td>\n",
              "      <td>0.000000e+00</td>\n",
              "      <td>1.934809e-33</td>\n",
              "    </tr>\n",
              "    <tr>\n",
              "      <th>Light</th>\n",
              "      <td>0.000000e+00</td>\n",
              "      <td>6.396081e-04</td>\n",
              "      <td>0.000000e+00</td>\n",
              "      <td>0.0</td>\n",
              "      <td>1.384224e-98</td>\n",
              "      <td>0.000000e+00</td>\n",
              "    </tr>\n",
              "    <tr>\n",
              "      <th>CO2</th>\n",
              "      <td>0.000000e+00</td>\n",
              "      <td>0.000000e+00</td>\n",
              "      <td>0.000000e+00</td>\n",
              "      <td>0.0</td>\n",
              "      <td>0.000000e+00</td>\n",
              "      <td>0.000000e+00</td>\n",
              "    </tr>\n",
              "    <tr>\n",
              "      <th>HumidityRatio</th>\n",
              "      <td>3.731142e-43</td>\n",
              "      <td>0.000000e+00</td>\n",
              "      <td>1.384224e-98</td>\n",
              "      <td>0.0</td>\n",
              "      <td>0.000000e+00</td>\n",
              "      <td>2.618819e-169</td>\n",
              "    </tr>\n",
              "    <tr>\n",
              "      <th>Occupancy</th>\n",
              "      <td>0.000000e+00</td>\n",
              "      <td>1.934809e-33</td>\n",
              "      <td>0.000000e+00</td>\n",
              "      <td>0.0</td>\n",
              "      <td>2.618819e-169</td>\n",
              "      <td>0.000000e+00</td>\n",
              "    </tr>\n",
              "  </tbody>\n",
              "</table>\n",
              "</div>"
            ],
            "text/plain": [
              "                Temperature      Humidity  ...  HumidityRatio      Occupancy\n",
              "Temperature    0.000000e+00  8.045844e-38  ...   3.731142e-43   0.000000e+00\n",
              "Humidity       8.045844e-38  0.000000e+00  ...   0.000000e+00   1.934809e-33\n",
              "Light          0.000000e+00  6.396081e-04  ...   1.384224e-98   0.000000e+00\n",
              "CO2            0.000000e+00  0.000000e+00  ...   0.000000e+00   0.000000e+00\n",
              "HumidityRatio  3.731142e-43  0.000000e+00  ...   0.000000e+00  2.618819e-169\n",
              "Occupancy      0.000000e+00  1.934809e-33  ...  2.618819e-169   0.000000e+00\n",
              "\n",
              "[6 rows x 6 columns]"
            ]
          },
          "metadata": {
            "tags": []
          },
          "execution_count": 7
        }
      ]
    },
    {
      "cell_type": "code",
      "metadata": {
        "colab": {
          "base_uri": "https://localhost:8080/",
          "height": 1000
        },
        "id": "enoKRXy8Oklq",
        "outputId": "0bcf0dc1-132d-4c16-cbb0-0cc1584c1dc4"
      },
      "source": [
        "features = ['Temperature', 'Humidity', 'Light', 'CO2', 'HumidityRatio']\n",
        "\n",
        "# scatter plots\n",
        "temp = pd.melt(df_train, id_vars=['Occupancy'],value_vars=features)\n",
        "grid = sns.FacetGrid(temp, col=\"variable\",  col_wrap=2 , height=5.0, \n",
        "                     aspect=1.2,sharex=False, sharey=False)\n",
        "grid.map(plt.scatter, \"value\",'Occupancy', s=3)\n",
        "plt.show()"
      ],
      "execution_count": null,
      "outputs": [
        {
          "output_type": "display_data",
          "data": {
            "image/png": "[encoded data removed]",
            "text/plain": [
              "<Figure size 864x1080 with 5 Axes>"
            ]
          },
          "metadata": {
            "tags": [],
            "needs_background": "light"
          }
        }
      ]
    },
    {
      "cell_type": "code",
      "metadata": {
        "colab": {
          "base_uri": "https://localhost:8080/"
        },
        "id": "6heUusniOklq",
        "outputId": "7a678eb9-44c4-4c07-9305-daf213d1fb08"
      },
      "source": [
        "unoccupied = df_train[df_train['Occupancy'] == 0] # filtering only non-fraud cases\n",
        "occupied = df_train[df_train['Occupancy'] == 1] # filtering fraud cases\n",
        "\n",
        "print(\"Count of unoccupied class: \")\n",
        "print(unoccupied['Occupancy'].count())\n",
        "\n",
        "print(\"Count of occupied class: \")\n",
        "print(occupied['Occupancy'].count())"
      ],
      "execution_count": null,
      "outputs": [
        {
          "output_type": "stream",
          "text": [
            "Count of unoccupied class: \n",
            "6414\n",
            "Count of occupied class: \n",
            "1729\n"
          ],
          "name": "stdout"
        }
      ]
    },
    {
      "cell_type": "code",
      "metadata": {
        "colab": {
          "base_uri": "https://localhost:8080/",
          "height": 221
        },
        "id": "umzjcUYDOklr",
        "outputId": "7f44741c-6b86-4373-d86e-2a00e0643307"
      },
      "source": [
        "data_comb = df_train.copy()\n",
        "\n",
        "print(data_comb.shape)\n",
        "\n",
        "data_comb.head()"
      ],
      "execution_count": null,
      "outputs": [
        {
          "output_type": "stream",
          "text": [
            "(8143, 6)\n"
          ],
          "name": "stdout"
        },
        {
          "output_type": "execute_result",
          "data": {
            "text/html": [
              "<div>\n",
              "<style scoped>\n",
              "    .dataframe tbody tr th:only-of-type {\n",
              "        vertical-align: middle;\n",
              "    }\n",
              "\n",
              "    .dataframe tbody tr th {\n",
              "        vertical-align: top;\n",
              "    }\n",
              "\n",
              "    .dataframe thead th {\n",
              "        text-align: right;\n",
              "    }\n",
              "</style>\n",
              "<table border=\"1\" class=\"dataframe\">\n",
              "  <thead>\n",
              "    <tr style=\"text-align: right;\">\n",
              "      <th></th>\n",
              "      <th>Temperature</th>\n",
              "      <th>Humidity</th>\n",
              "      <th>Light</th>\n",
              "      <th>CO2</th>\n",
              "      <th>HumidityRatio</th>\n",
              "      <th>Occupancy</th>\n",
              "    </tr>\n",
              "  </thead>\n",
              "  <tbody>\n",
              "    <tr>\n",
              "      <th>1</th>\n",
              "      <td>23.18</td>\n",
              "      <td>27.2720</td>\n",
              "      <td>426.0</td>\n",
              "      <td>721.25</td>\n",
              "      <td>0.004793</td>\n",
              "      <td>1</td>\n",
              "    </tr>\n",
              "    <tr>\n",
              "      <th>2</th>\n",
              "      <td>23.15</td>\n",
              "      <td>27.2675</td>\n",
              "      <td>429.5</td>\n",
              "      <td>714.00</td>\n",
              "      <td>0.004783</td>\n",
              "      <td>1</td>\n",
              "    </tr>\n",
              "    <tr>\n",
              "      <th>3</th>\n",
              "      <td>23.15</td>\n",
              "      <td>27.2450</td>\n",
              "      <td>426.0</td>\n",
              "      <td>713.50</td>\n",
              "      <td>0.004779</td>\n",
              "      <td>1</td>\n",
              "    </tr>\n",
              "    <tr>\n",
              "      <th>4</th>\n",
              "      <td>23.15</td>\n",
              "      <td>27.2000</td>\n",
              "      <td>426.0</td>\n",
              "      <td>708.25</td>\n",
              "      <td>0.004772</td>\n",
              "      <td>1</td>\n",
              "    </tr>\n",
              "    <tr>\n",
              "      <th>5</th>\n",
              "      <td>23.10</td>\n",
              "      <td>27.2000</td>\n",
              "      <td>426.0</td>\n",
              "      <td>704.50</td>\n",
              "      <td>0.004757</td>\n",
              "      <td>1</td>\n",
              "    </tr>\n",
              "  </tbody>\n",
              "</table>\n",
              "</div>"
            ],
            "text/plain": [
              "   Temperature  Humidity  Light     CO2  HumidityRatio  Occupancy\n",
              "1        23.18   27.2720  426.0  721.25       0.004793          1\n",
              "2        23.15   27.2675  429.5  714.00       0.004783          1\n",
              "3        23.15   27.2450  426.0  713.50       0.004779          1\n",
              "4        23.15   27.2000  426.0  708.25       0.004772          1\n",
              "5        23.10   27.2000  426.0  704.50       0.004757          1"
            ]
          },
          "metadata": {
            "tags": []
          },
          "execution_count": 10
        }
      ]
    },
    {
      "cell_type": "code",
      "metadata": {
        "colab": {
          "base_uri": "https://localhost:8080/",
          "height": 204
        },
        "id": "cbn71EcZOkls",
        "outputId": "51a13dd1-b7a1-4025-f16c-51f7b0dcde17"
      },
      "source": [
        "# standard normalization of independent variable columns\n",
        "\n",
        "stdnorm = StandardScaler()\n",
        "\n",
        "features = list(data_comb.columns[:-1])\n",
        "\n",
        "data_comb[features] = stdnorm.fit_transform(data_comb[features])\n",
        "df_test_1[features] = stdnorm.transform(df_test_1[features])\n",
        "df_test_2[features] = stdnorm.transform(df_test_2[features])\n",
        "\n",
        "data_comb.head()"
      ],
      "execution_count": null,
      "outputs": [
        {
          "output_type": "execute_result",
          "data": {
            "text/html": [
              "<div>\n",
              "<style scoped>\n",
              "    .dataframe tbody tr th:only-of-type {\n",
              "        vertical-align: middle;\n",
              "    }\n",
              "\n",
              "    .dataframe tbody tr th {\n",
              "        vertical-align: top;\n",
              "    }\n",
              "\n",
              "    .dataframe thead th {\n",
              "        text-align: right;\n",
              "    }\n",
              "</style>\n",
              "<table border=\"1\" class=\"dataframe\">\n",
              "  <thead>\n",
              "    <tr style=\"text-align: right;\">\n",
              "      <th></th>\n",
              "      <th>Temperature</th>\n",
              "      <th>Humidity</th>\n",
              "      <th>Light</th>\n",
              "      <th>CO2</th>\n",
              "      <th>HumidityRatio</th>\n",
              "      <th>Occupancy</th>\n",
              "    </tr>\n",
              "  </thead>\n",
              "  <tbody>\n",
              "    <tr>\n",
              "      <th>1</th>\n",
              "      <td>2.518470</td>\n",
              "      <td>0.278526</td>\n",
              "      <td>1.573763</td>\n",
              "      <td>0.364948</td>\n",
              "      <td>1.091757</td>\n",
              "      <td>1</td>\n",
              "    </tr>\n",
              "    <tr>\n",
              "      <th>2</th>\n",
              "      <td>2.488967</td>\n",
              "      <td>0.277713</td>\n",
              "      <td>1.591735</td>\n",
              "      <td>0.341881</td>\n",
              "      <td>1.080555</td>\n",
              "      <td>1</td>\n",
              "    </tr>\n",
              "    <tr>\n",
              "      <th>3</th>\n",
              "      <td>2.488967</td>\n",
              "      <td>0.273645</td>\n",
              "      <td>1.573763</td>\n",
              "      <td>0.340290</td>\n",
              "      <td>1.075888</td>\n",
              "      <td>1</td>\n",
              "    </tr>\n",
              "    <tr>\n",
              "      <th>4</th>\n",
              "      <td>2.488967</td>\n",
              "      <td>0.265508</td>\n",
              "      <td>1.573763</td>\n",
              "      <td>0.323587</td>\n",
              "      <td>1.066555</td>\n",
              "      <td>1</td>\n",
              "    </tr>\n",
              "    <tr>\n",
              "      <th>5</th>\n",
              "      <td>2.439796</td>\n",
              "      <td>0.265508</td>\n",
              "      <td>1.573763</td>\n",
              "      <td>0.311655</td>\n",
              "      <td>1.049523</td>\n",
              "      <td>1</td>\n",
              "    </tr>\n",
              "  </tbody>\n",
              "</table>\n",
              "</div>"
            ],
            "text/plain": [
              "   Temperature  Humidity     Light       CO2  HumidityRatio  Occupancy\n",
              "1     2.518470  0.278526  1.573763  0.364948       1.091757          1\n",
              "2     2.488967  0.277713  1.591735  0.341881       1.080555          1\n",
              "3     2.488967  0.273645  1.573763  0.340290       1.075888          1\n",
              "4     2.488967  0.265508  1.573763  0.323587       1.066555          1\n",
              "5     2.439796  0.265508  1.573763  0.311655       1.049523          1"
            ]
          },
          "metadata": {
            "tags": []
          },
          "execution_count": 11
        }
      ]
    },
    {
      "cell_type": "code",
      "metadata": {
        "colab": {
          "base_uri": "https://localhost:8080/",
          "height": 204
        },
        "id": "TvldwArBOkls",
        "outputId": "34e194c3-6180-433c-cef9-cd634f7b9455"
      },
      "source": [
        "df_test_1.head()"
      ],
      "execution_count": null,
      "outputs": [
        {
          "output_type": "execute_result",
          "data": {
            "text/html": [
              "<div>\n",
              "<style scoped>\n",
              "    .dataframe tbody tr th:only-of-type {\n",
              "        vertical-align: middle;\n",
              "    }\n",
              "\n",
              "    .dataframe tbody tr th {\n",
              "        vertical-align: top;\n",
              "    }\n",
              "\n",
              "    .dataframe thead th {\n",
              "        text-align: right;\n",
              "    }\n",
              "</style>\n",
              "<table border=\"1\" class=\"dataframe\">\n",
              "  <thead>\n",
              "    <tr style=\"text-align: right;\">\n",
              "      <th></th>\n",
              "      <th>Temperature</th>\n",
              "      <th>Humidity</th>\n",
              "      <th>Light</th>\n",
              "      <th>CO2</th>\n",
              "      <th>HumidityRatio</th>\n",
              "      <th>Occupancy</th>\n",
              "    </tr>\n",
              "  </thead>\n",
              "  <tbody>\n",
              "    <tr>\n",
              "      <th>140</th>\n",
              "      <td>3.029851</td>\n",
              "      <td>0.097723</td>\n",
              "      <td>2.391247</td>\n",
              "      <td>0.453875</td>\n",
              "      <td>1.057936</td>\n",
              "      <td>1</td>\n",
              "    </tr>\n",
              "    <tr>\n",
              "      <th>141</th>\n",
              "      <td>3.047553</td>\n",
              "      <td>0.100977</td>\n",
              "      <td>2.356329</td>\n",
              "      <td>0.489510</td>\n",
              "      <td>1.067907</td>\n",
              "      <td>1</td>\n",
              "    </tr>\n",
              "    <tr>\n",
              "      <th>142</th>\n",
              "      <td>3.059354</td>\n",
              "      <td>0.090129</td>\n",
              "      <td>2.326889</td>\n",
              "      <td>0.518993</td>\n",
              "      <td>1.059097</td>\n",
              "      <td>1</td>\n",
              "    </tr>\n",
              "    <tr>\n",
              "      <th>143</th>\n",
              "      <td>3.051978</td>\n",
              "      <td>0.071145</td>\n",
              "      <td>1.921656</td>\n",
              "      <td>0.535167</td>\n",
              "      <td>1.034012</td>\n",
              "      <td>1</td>\n",
              "    </tr>\n",
              "    <tr>\n",
              "      <th>144</th>\n",
              "      <td>3.082956</td>\n",
              "      <td>0.084705</td>\n",
              "      <td>1.895211</td>\n",
              "      <td>0.548689</td>\n",
              "      <td>1.060788</td>\n",
              "      <td>1</td>\n",
              "    </tr>\n",
              "  </tbody>\n",
              "</table>\n",
              "</div>"
            ],
            "text/plain": [
              "     Temperature  Humidity     Light       CO2  HumidityRatio  Occupancy\n",
              "140     3.029851  0.097723  2.391247  0.453875       1.057936          1\n",
              "141     3.047553  0.100977  2.356329  0.489510       1.067907          1\n",
              "142     3.059354  0.090129  2.326889  0.518993       1.059097          1\n",
              "143     3.051978  0.071145  1.921656  0.535167       1.034012          1\n",
              "144     3.082956  0.084705  1.895211  0.548689       1.060788          1"
            ]
          },
          "metadata": {
            "tags": []
          },
          "execution_count": 12
        }
      ]
    },
    {
      "cell_type": "code",
      "metadata": {
        "id": "6wRM-nomOklt"
      },
      "source": [
        "# taking different feature sets for training\n",
        "\n",
        "columns = [\n",
        "    #'Temperature',\n",
        "    #'Humidity',\n",
        "    'Light', \n",
        "    #'CO2', \n",
        "    'HumidityRatio',\n",
        "    'Occupancy']\n",
        "\n",
        "data = data_comb[columns]\n",
        "df_test1 = df_test_1[columns]\n",
        "df_test2 = df_test_2[columns]"
      ],
      "execution_count": null,
      "outputs": []
    },
    {
      "cell_type": "code",
      "metadata": {
        "id": "cwr6kXZtOklt"
      },
      "source": [
        "# def train_set_creator(df):\n",
        "#     X_train = df.drop('Occupancy', axis=1).values # features\n",
        "#     y_train = df['Occupancy'].values # labels\n",
        "#     return X_train, y_train\n",
        "\n",
        "def test_set_creator(df):\n",
        "    X_t = df.drop('Occupancy', axis=1).values # features\n",
        "    y_t = df['Occupancy'].values # labels\n",
        "    return X_t, y_t"
      ],
      "execution_count": null,
      "outputs": []
    },
    {
      "cell_type": "code",
      "metadata": {
        "id": "aSKpl3jwOklu",
        "colab": {
          "base_uri": "https://localhost:8080/"
        },
        "outputId": "b8734209-ce0c-40d2-a136-432910c39029"
      },
      "source": [
        "X = data.drop('Occupancy', axis=1).values\n",
        "y = data['Occupancy'].values\n",
        "\n",
        "X_train, X_test, y_train, y_test = train_test_split(\n",
        "    X, y, \n",
        "    test_size = 0.2, \n",
        "    random_state = 1\n",
        "    )\n",
        "\n",
        "print(X_train.shape)"
      ],
      "execution_count": null,
      "outputs": [
        {
          "output_type": "stream",
          "text": [
            "(6514, 2)\n"
          ],
          "name": "stdout"
        }
      ]
    },
    {
      "cell_type": "code",
      "metadata": {
        "id": "49SDGeVROklu"
      },
      "source": [
        "X_test1, y_test1 = test_set_creator(df_test1)\n",
        "X_test2, y_test2 = test_set_creator(df_test2)"
      ],
      "execution_count": null,
      "outputs": []
    },
    {
      "cell_type": "code",
      "metadata": {
        "id": "tgpKrPYkOklv",
        "colab": {
          "base_uri": "https://localhost:8080/"
        },
        "outputId": "91139973-4dc2-4b31-fee9-8c8fa87f5778"
      },
      "source": [
        "smt = BorderlineSMOTE(sampling_strategy=1.0, kind= \"borderline-1\")\n",
        "X_arr, y_arr = smt.fit_resample(X,y)"
      ],
      "execution_count": null,
      "outputs": [
        {
          "output_type": "stream",
          "text": [
            "/usr/local/lib/python3.7/dist-packages/sklearn/utils/deprecation.py:87: FutureWarning: Function safe_indexing is deprecated; safe_indexing is deprecated in version 0.22 and will be removed in version 0.24.\n",
            "  warnings.warn(msg, category=FutureWarning)\n",
            "/usr/local/lib/python3.7/dist-packages/sklearn/utils/deprecation.py:87: FutureWarning: Function safe_indexing is deprecated; safe_indexing is deprecated in version 0.22 and will be removed in version 0.24.\n",
            "  warnings.warn(msg, category=FutureWarning)\n",
            "/usr/local/lib/python3.7/dist-packages/sklearn/utils/deprecation.py:87: FutureWarning: Function safe_indexing is deprecated; safe_indexing is deprecated in version 0.22 and will be removed in version 0.24.\n",
            "  warnings.warn(msg, category=FutureWarning)\n"
          ],
          "name": "stderr"
        }
      ]
    },
    {
      "cell_type": "code",
      "metadata": {
        "id": "swGCSncax3K-",
        "colab": {
          "base_uri": "https://localhost:8080/"
        },
        "outputId": "f7ab8894-5833-4f3f-884d-01e134532308"
      },
      "source": [
        "y_arr[y_arr==1].shape"
      ],
      "execution_count": null,
      "outputs": [
        {
          "output_type": "execute_result",
          "data": {
            "text/plain": [
              "(6414,)"
            ]
          },
          "metadata": {
            "tags": []
          },
          "execution_count": 82
        }
      ]
    },
    {
      "cell_type": "code",
      "metadata": {
        "id": "-bYRE9iLRxGb",
        "colab": {
          "base_uri": "https://localhost:8080/"
        },
        "outputId": "0a87ddc9-c637-4b46-d157-3114cf9c42bd"
      },
      "source": [
        "# Creating function to get a untrained model from tensorflow\n",
        "tf.keras.backend.clear_session()\n",
        "tf.random.set_seed(10)\n",
        "\n",
        "def get_model():\n",
        "  model = Sequential([ \n",
        "        Dense(512, input_shape=(X_arr.shape[1],)),\n",
        "        ReLU(),\n",
        "        BatchNormalization(),\n",
        "        Dropout(0.2),\n",
        "\n",
        "        Dense(512),\n",
        "        ReLU(),\n",
        "        BatchNormalization(),\n",
        "        Dropout(0.2),\n",
        "\n",
        "        Dense(1024),\n",
        "        ReLU(),\n",
        "        BatchNormalization(),\n",
        "        Dropout(0.25),\n",
        "\n",
        "        Dense(1024),\n",
        "        ReLU(),\n",
        "        BatchNormalization(),\n",
        "        Dropout(0.25),\n",
        "\n",
        "        Dense(1024),\n",
        "        ReLU(),\n",
        "        BatchNormalization(),\n",
        "        Dropout(0.25),\n",
        "\n",
        "        Dense(1024),\n",
        "        ReLU(),\n",
        "        BatchNormalization(),\n",
        "        Dropout(0.2),\n",
        "\n",
        "        Dense(1024),\n",
        "        ReLU(),\n",
        "        BatchNormalization(),\n",
        "        Dropout(0.2),\n",
        "\n",
        "        Dense(1024),\n",
        "        ReLU(),\n",
        "        BatchNormalization(),\n",
        "        Dropout(0.2),\n",
        "\n",
        "        Dense(1024),\n",
        "        ReLU(),\n",
        "        BatchNormalization(),\n",
        "        Dropout(0.2),\n",
        "\n",
        "        Dense(1024),\n",
        "        ReLU(),\n",
        "        BatchNormalization(),\n",
        "        Dropout(0.15),\n",
        "\n",
        "        Dense(1024),\n",
        "        ReLU(),\n",
        "        BatchNormalization(),\n",
        "        Dropout(0.15),\n",
        "\n",
        "        Dense(512),\n",
        "        ReLU(),\n",
        "        BatchNormalization(),\n",
        "        Dropout(0.15),\n",
        "\n",
        "        Dense(512),\n",
        "        ReLU(),\n",
        "        BatchNormalization(),\n",
        "        Dropout(0.1),\n",
        "\n",
        "        Dense(512),\n",
        "        ReLU(),\n",
        "        BatchNormalization(),\n",
        "        Dropout(0.1),\n",
        "\n",
        "        Dense(256),\n",
        "        ReLU(),\n",
        "        BatchNormalization(),\n",
        "        Dropout(0.1),\n",
        "        \n",
        "        Dense(1, activation='sigmoid')\n",
        "    ])\n",
        "  \n",
        "  model.compile(\n",
        "        loss='binary_crossentropy',\n",
        "        optimizer=RMSprop(learning_rate=0.0001) ,\n",
        "        metrics=['binary_accuracy']\n",
        "    )\n",
        "  \n",
        "  return model\n",
        "\n",
        "get_model().summary()"
      ],
      "execution_count": null,
      "outputs": [
        {
          "output_type": "stream",
          "text": [
            "Model: \"sequential\"\n",
            "_________________________________________________________________\n",
            "Layer (type)                 Output Shape              Param #   \n",
            "=================================================================\n",
            "dense (Dense)                (None, 512)               1536      \n",
            "_________________________________________________________________\n",
            "re_lu (ReLU)                 (None, 512)               0         \n",
            "_________________________________________________________________\n",
            "batch_normalization (BatchNo (None, 512)               2048      \n",
            "_________________________________________________________________\n",
            "dropout (Dropout)            (None, 512)               0         \n",
            "_________________________________________________________________\n",
            "dense_1 (Dense)              (None, 512)               262656    \n",
            "_________________________________________________________________\n",
            "re_lu_1 (ReLU)               (None, 512)               0         \n",
            "_________________________________________________________________\n",
            "batch_normalization_1 (Batch (None, 512)               2048      \n",
            "_________________________________________________________________\n",
            "dropout_1 (Dropout)          (None, 512)               0         \n",
            "_________________________________________________________________\n",
            "dense_2 (Dense)              (None, 1024)              525312    \n",
            "_________________________________________________________________\n",
            "re_lu_2 (ReLU)               (None, 1024)              0         \n",
            "_________________________________________________________________\n",
            "batch_normalization_2 (Batch (None, 1024)              4096      \n",
            "_________________________________________________________________\n",
            "dropout_2 (Dropout)          (None, 1024)              0         \n",
            "_________________________________________________________________\n",
            "dense_3 (Dense)              (None, 1024)              1049600   \n",
            "_________________________________________________________________\n",
            "re_lu_3 (ReLU)               (None, 1024)              0         \n",
            "_________________________________________________________________\n",
            "batch_normalization_3 (Batch (None, 1024)              4096      \n",
            "_________________________________________________________________\n",
            "dropout_3 (Dropout)          (None, 1024)              0         \n",
            "_________________________________________________________________\n",
            "dense_4 (Dense)              (None, 1024)              1049600   \n",
            "_________________________________________________________________\n",
            "re_lu_4 (ReLU)               (None, 1024)              0         \n",
            "_________________________________________________________________\n",
            "batch_normalization_4 (Batch (None, 1024)              4096      \n",
            "_________________________________________________________________\n",
            "dropout_4 (Dropout)          (None, 1024)              0         \n",
            "_________________________________________________________________\n",
            "dense_5 (Dense)              (None, 1024)              1049600   \n",
            "_________________________________________________________________\n",
            "re_lu_5 (ReLU)               (None, 1024)              0         \n",
            "_________________________________________________________________\n",
            "batch_normalization_5 (Batch (None, 1024)              4096      \n",
            "_________________________________________________________________\n",
            "dropout_5 (Dropout)          (None, 1024)              0         \n",
            "_________________________________________________________________\n",
            "dense_6 (Dense)              (None, 1024)              1049600   \n",
            "_________________________________________________________________\n",
            "re_lu_6 (ReLU)               (None, 1024)              0         \n",
            "_________________________________________________________________\n",
            "batch_normalization_6 (Batch (None, 1024)              4096      \n",
            "_________________________________________________________________\n",
            "dropout_6 (Dropout)          (None, 1024)              0         \n",
            "_________________________________________________________________\n",
            "dense_7 (Dense)              (None, 1024)              1049600   \n",
            "_________________________________________________________________\n",
            "re_lu_7 (ReLU)               (None, 1024)              0         \n",
            "_________________________________________________________________\n",
            "batch_normalization_7 (Batch (None, 1024)              4096      \n",
            "_________________________________________________________________\n",
            "dropout_7 (Dropout)          (None, 1024)              0         \n",
            "_________________________________________________________________\n",
            "dense_8 (Dense)              (None, 1024)              1049600   \n",
            "_________________________________________________________________\n",
            "re_lu_8 (ReLU)               (None, 1024)              0         \n",
            "_________________________________________________________________\n",
            "batch_normalization_8 (Batch (None, 1024)              4096      \n",
            "_________________________________________________________________\n",
            "dropout_8 (Dropout)          (None, 1024)              0         \n",
            "_________________________________________________________________\n",
            "dense_9 (Dense)              (None, 1024)              1049600   \n",
            "_________________________________________________________________\n",
            "re_lu_9 (ReLU)               (None, 1024)              0         \n",
            "_________________________________________________________________\n",
            "batch_normalization_9 (Batch (None, 1024)              4096      \n",
            "_________________________________________________________________\n",
            "dropout_9 (Dropout)          (None, 1024)              0         \n",
            "_________________________________________________________________\n",
            "dense_10 (Dense)             (None, 1024)              1049600   \n",
            "_________________________________________________________________\n",
            "re_lu_10 (ReLU)              (None, 1024)              0         \n",
            "_________________________________________________________________\n",
            "batch_normalization_10 (Batc (None, 1024)              4096      \n",
            "_________________________________________________________________\n",
            "dropout_10 (Dropout)         (None, 1024)              0         \n",
            "_________________________________________________________________\n",
            "dense_11 (Dense)             (None, 512)               524800    \n",
            "_________________________________________________________________\n",
            "re_lu_11 (ReLU)              (None, 512)               0         \n",
            "_________________________________________________________________\n",
            "batch_normalization_11 (Batc (None, 512)               2048      \n",
            "_________________________________________________________________\n",
            "dropout_11 (Dropout)         (None, 512)               0         \n",
            "_________________________________________________________________\n",
            "dense_12 (Dense)             (None, 512)               262656    \n",
            "_________________________________________________________________\n",
            "re_lu_12 (ReLU)              (None, 512)               0         \n",
            "_________________________________________________________________\n",
            "batch_normalization_12 (Batc (None, 512)               2048      \n",
            "_________________________________________________________________\n",
            "dropout_12 (Dropout)         (None, 512)               0         \n",
            "_________________________________________________________________\n",
            "dense_13 (Dense)             (None, 512)               262656    \n",
            "_________________________________________________________________\n",
            "re_lu_13 (ReLU)              (None, 512)               0         \n",
            "_________________________________________________________________\n",
            "batch_normalization_13 (Batc (None, 512)               2048      \n",
            "_________________________________________________________________\n",
            "dropout_13 (Dropout)         (None, 512)               0         \n",
            "_________________________________________________________________\n",
            "dense_14 (Dense)             (None, 256)               131328    \n",
            "_________________________________________________________________\n",
            "re_lu_14 (ReLU)              (None, 256)               0         \n",
            "_________________________________________________________________\n",
            "batch_normalization_14 (Batc (None, 256)               1024      \n",
            "_________________________________________________________________\n",
            "dropout_14 (Dropout)         (None, 256)               0         \n",
            "_________________________________________________________________\n",
            "dense_15 (Dense)             (None, 1)                 257       \n",
            "=================================================================\n",
            "Total params: 10,416,129\n",
            "Trainable params: 10,392,065\n",
            "Non-trainable params: 24,064\n",
            "_________________________________________________________________\n"
          ],
          "name": "stdout"
        }
      ]
    },
    {
      "cell_type": "code",
      "metadata": {
        "colab": {
          "base_uri": "https://localhost:8080/"
        },
        "id": "sRPZT1JJToLZ",
        "outputId": "d8755932-e6bd-444e-ef2c-dee29217defd"
      },
      "source": [
        "# running training on tensorflow DNN\n",
        "\n",
        "class CustomStopper(tf.keras.callbacks.EarlyStopping):\n",
        "    def __init__(self, monitor='val_loss',\n",
        "             patience=7, verbose=0, restore_best_weights=True, mode='min', start_epoch = 15): # add argument for starting epoch\n",
        "        super(CustomStopper, self).__init__()\n",
        "        self.start_epoch = start_epoch\n",
        "\n",
        "    def on_epoch_end(self, epoch, logs=None):\n",
        "        if epoch > self.start_epoch:\n",
        "            super().on_epoch_end(epoch, logs)\n",
        "\n",
        "lr_call = tf.keras.callbacks.ReduceLROnPlateau(\n",
        "    monitor='val_loss', factor=0.1, patience=5, verbose=1, mode='min'\n",
        "    )\n",
        "\n",
        "cb = CustomStopper()\n",
        "model = get_model()\n",
        "\n",
        "history = model.fit(\n",
        "    X_arr, y_arr,\n",
        "    batch_size = 64,\n",
        "    validation_split = 0.2,\n",
        "    epochs=500,\n",
        "    callbacks=[cb, lr_call]\n",
        ")"
      ],
      "execution_count": null,
      "outputs": [
        {
          "output_type": "stream",
          "text": [
            "Epoch 1/500\n",
            "161/161 [==============================] - 42s 222ms/step - loss: 0.5855 - binary_accuracy: 0.7009 - val_loss: 1.7918 - val_binary_accuracy: 0.0000e+00\n",
            "Epoch 2/500\n",
            "161/161 [==============================] - 35s 217ms/step - loss: 0.1514 - binary_accuracy: 0.9630 - val_loss: 0.2956 - val_binary_accuracy: 0.8995\n",
            "Epoch 3/500\n",
            "161/161 [==============================] - 35s 214ms/step - loss: 0.1157 - binary_accuracy: 0.9734 - val_loss: 0.0538 - val_binary_accuracy: 0.9622\n",
            "Epoch 4/500\n",
            "161/161 [==============================] - 34s 214ms/step - loss: 0.1001 - binary_accuracy: 0.9783 - val_loss: 0.0163 - val_binary_accuracy: 1.0000\n",
            "Epoch 5/500\n",
            "161/161 [==============================] - 35s 217ms/step - loss: 0.0880 - binary_accuracy: 0.9783 - val_loss: 0.0099 - val_binary_accuracy: 1.0000\n",
            "Epoch 6/500\n",
            "161/161 [==============================] - 35s 216ms/step - loss: 0.0823 - binary_accuracy: 0.9807 - val_loss: 0.0024 - val_binary_accuracy: 1.0000\n",
            "Epoch 7/500\n",
            "161/161 [==============================] - 35s 218ms/step - loss: 0.0898 - binary_accuracy: 0.9787 - val_loss: 0.0121 - val_binary_accuracy: 1.0000\n",
            "Epoch 8/500\n",
            "161/161 [==============================] - 35s 219ms/step - loss: 0.0819 - binary_accuracy: 0.9794 - val_loss: 0.0062 - val_binary_accuracy: 1.0000\n",
            "Epoch 9/500\n",
            "161/161 [==============================] - 35s 219ms/step - loss: 0.0696 - binary_accuracy: 0.9826 - val_loss: 0.0050 - val_binary_accuracy: 1.0000\n",
            "Epoch 10/500\n",
            "161/161 [==============================] - 35s 220ms/step - loss: 0.0709 - binary_accuracy: 0.9829 - val_loss: 0.0043 - val_binary_accuracy: 1.0000\n",
            "Epoch 11/500\n",
            "161/161 [==============================] - 35s 220ms/step - loss: 0.0761 - binary_accuracy: 0.9826 - val_loss: 0.0516 - val_binary_accuracy: 0.9813\n",
            "\n",
            "Epoch 00011: ReduceLROnPlateau reducing learning rate to 9.999999747378752e-06.\n",
            "Epoch 12/500\n",
            "161/161 [==============================] - 35s 216ms/step - loss: 0.0646 - binary_accuracy: 0.9849 - val_loss: 0.0250 - val_binary_accuracy: 1.0000\n",
            "Epoch 13/500\n",
            "161/161 [==============================] - 35s 215ms/step - loss: 0.0612 - binary_accuracy: 0.9873 - val_loss: 0.0237 - val_binary_accuracy: 1.0000\n",
            "Epoch 14/500\n",
            "161/161 [==============================] - 36s 224ms/step - loss: 0.0716 - binary_accuracy: 0.9848 - val_loss: 0.0232 - val_binary_accuracy: 1.0000\n",
            "Epoch 15/500\n",
            "161/161 [==============================] - 35s 219ms/step - loss: 0.0710 - binary_accuracy: 0.9840 - val_loss: 0.0270 - val_binary_accuracy: 1.0000\n",
            "Epoch 16/500\n",
            "161/161 [==============================] - 36s 224ms/step - loss: 0.0602 - binary_accuracy: 0.9849 - val_loss: 0.0258 - val_binary_accuracy: 1.0000\n",
            "\n",
            "Epoch 00016: ReduceLROnPlateau reducing learning rate to 9.999999747378752e-07.\n",
            "Epoch 17/500\n",
            "161/161 [==============================] - 36s 224ms/step - loss: 0.0657 - binary_accuracy: 0.9840 - val_loss: 0.0296 - val_binary_accuracy: 1.0000\n",
            "Epoch 18/500\n",
            "161/161 [==============================] - 35s 219ms/step - loss: 0.0512 - binary_accuracy: 0.9878 - val_loss: 0.0297 - val_binary_accuracy: 1.0000\n"
          ],
          "name": "stdout"
        }
      ]
    },
    {
      "cell_type": "code",
      "metadata": {
        "id": "5X9q0gSkTtCa",
        "colab": {
          "base_uri": "https://localhost:8080/",
          "height": 513
        },
        "outputId": "312a6ba0-dd8f-4871-e28f-c9a048e43b60"
      },
      "source": [
        "# result of the model training\n",
        "\n",
        "loss = history.history['loss']\n",
        "val_loss = history.history['val_loss']\n",
        "\n",
        "epochs = range(len(loss))\n",
        "\n",
        "plt.figure(figsize=(12,8))\n",
        "\n",
        "plt.plot(epochs, loss, 'r', label='Training Loss')\n",
        "plt.plot(epochs, val_loss, 'b', label='Validation Loss')\n",
        "plt.title('Training and validation loss - LH') ##########\n",
        "plt.xlabel('No. of Epochs')\n",
        "plt.ylabel('Loss (BCE)')\n",
        "plt.legend()\n",
        "\n",
        "plt.savefig('/content'+'/ANN Training and Validation Loss - '+'LH Borderline 1.png',dpi=300) ##########\n",
        "\n",
        "plt.show()"
      ],
      "execution_count": null,
      "outputs": [
        {
          "output_type": "display_data",
          "data": {
            "image/png": "[encoded data removed]",
            "text/plain": [
              "<Figure size 864x576 with 1 Axes>"
            ]
          },
          "metadata": {
            "tags": [],
            "needs_background": "light"
          }
        }
      ]
    },
    {
      "cell_type": "code",
      "metadata": {
        "id": "BqNLThqsWu1P",
        "colab": {
          "base_uri": "https://localhost:8080/"
        },
        "outputId": "08096e93-4919-4d11-868d-e1bc651b95ac"
      },
      "source": [
        "# result of the model training\n",
        "\n",
        "accuracy = history.history['binary_accuracy']\n",
        "val_accuracy = history.history['val_binary_accuracy']\n",
        "\n",
        "epochs = range(len(loss))\n",
        "\n",
        "plt.figure(figsize=(12,8))\n",
        "\n",
        "plt.plot(epochs, accuracy, 'r', label='Training Accuracy')\n",
        "plt.plot(epochs, val_accuracy, 'b', label='Validation Accuracy')\n",
        "plt.title('Training and validation Accuracy - LH') ########\n",
        "plt.xlabel('No. of Epochs')\n",
        "plt.ylabel('Accuracy')\n",
        "plt.legend()\n",
        "\n",
        "plt.savefig('/content'+'/ANN Training and Validation Accuracy - '+'LH Borderline 1.png',dpi=300) #########\n",
        "\n",
        "plt.show()"
      ],
      "execution_count": null,
      "outputs": [
        {
          "output_type": "display_data",
          "data": {
            "image/png": "[encoded data removed]",
            "text/plain": [
              "<Figure size 864x576 with 1 Axes>"
            ]
          },
          "metadata": {
            "tags": [],
            "needs_background": "light"
          }
        }
      ]
    },
    {
      "cell_type": "code",
      "metadata": {
        "id": "WUsS6vnlOkly",
        "colab": {
          "base_uri": "https://localhost:8080/"
        },
        "outputId": "59b237b0-3381-4c27-8660-a4542fb10a17"
      },
      "source": [
        "# Creating Random Forest Tree model\n",
        "\n",
        "ypred = model.predict(X_test)\n",
        "ypred_test1 = model.predict(X_test1)\n",
        "ypred_test2 = model.predict(X_test2)\n",
        "\n",
        "dl_ypred = np.where(ypred >= 0.5, 1,0)\n",
        "dl_ypred_test1 = np.where(ypred_test1 >= 0.5, 1,0)\n",
        "dl_ypred_test2 = np.where(ypred_test2 >= 0.5, 1,0)\n",
        "\n",
        "print(\"prediction done.\")"
      ],
      "execution_count": null,
      "outputs": [
        {
          "output_type": "stream",
          "text": [
            "prediction done.\n"
          ],
          "name": "stdout"
        }
      ]
    },
    {
      "cell_type": "code",
      "metadata": {
        "id": "kDJkcJNDOklz",
        "colab": {
          "base_uri": "https://localhost:8080/"
        },
        "outputId": "0d1fa75e-ab60-46f9-b533-b778f0bef187"
      },
      "source": [
        "# model names, models and predicted values for each model\n",
        "models = {'ANN Training':[model, dl_ypred, y_test, X_test],\n",
        "        'ANN Test 1':[model, dl_ypred_test1, y_test1, X_test1],\n",
        "        'ANN Test 2':[model, dl_ypred_test2, y_test2, X_test2]}\n",
        "\n",
        "# list of classes\n",
        "class_names = ['Unoccupied','Occupied']\n",
        "\n",
        "# blank dictionaries for saving evaluation metrics for each model \n",
        "accuracy = {}\n",
        "f1_score_dict = {}\n",
        "precision = {}\n",
        "recall = {}\n",
        "\n",
        "i = 1\n",
        "\n",
        "plt.figure(figsize=(18,4))\n",
        "\n",
        "for model, model_output in models.items():\n",
        "    acc = accuracy_score(model_output[2], model_output[1]) # accuracy\n",
        "    pre = precision_score(model_output[2], model_output[1]) # precision\n",
        "    rec = recall_score(model_output[2], model_output[1]) # recall\n",
        "    f1_sc = f1_score(model_output[2], model_output[1]) # f1 score\n",
        "    \n",
        "    # rounding and saving values to disctionary\n",
        "    accuracy[model] = round(acc,3)\n",
        "    precision[model] = round(pre,3)\n",
        "    recall[model] = round(rec,3)\n",
        "    f1_score_dict[model] = round(f1_sc,3)\n",
        "\n",
        "    # plotting confusion matrix for each model\n",
        "    cm = confusion_matrix(model_output[2], model_output[1])\n",
        "\n",
        "    ax = plt.subplot(1,3,i)\n",
        "    sns.heatmap(cm, annot=True, ax = ax );\n",
        "\n",
        "    # labels and titles\n",
        "    ax.set_xlabel('Predicted labels');ax.set_ylabel('True labels'); \n",
        "    ax.set_title('Confusion Matrix: '+model+' (LH)'); #############\n",
        "    ax.xaxis.set_ticklabels(['Unoccupied', 'Occupied']); ax.yaxis.set_ticklabels(['Unoccupied', 'Occupied']);\n",
        "\n",
        "\n",
        "    print(model)\n",
        "    print(cm)\n",
        "\n",
        "    i += 1\n",
        "\n",
        "plt.savefig('/content'+'/ANN Confusion Matrix - '+'LH Borderline 1.png',dpi=300) ########\n",
        "plt.show()"
      ],
      "execution_count": null,
      "outputs": [
        {
          "output_type": "stream",
          "text": [
            "ANN Training\n",
            "[[1252   18]\n",
            " [   1  358]]\n",
            "ANN Test 1\n",
            "[[1638   55]\n",
            " [   3  969]]\n",
            "ANN Test 2\n",
            "[[7564  139]\n",
            " [  13 2036]]\n"
          ],
          "name": "stdout"
        },
        {
          "output_type": "display_data",
          "data": {
            "image/png": "[encoded data removed]",
            "text/plain": [
              "<Figure size 1296x288 with 6 Axes>"
            ]
          },
          "metadata": {
            "tags": [],
            "needs_background": "light"
          }
        }
      ]
    },
    {
      "cell_type": "code",
      "metadata": {
        "id": "A4NmuOTSOkl0",
        "colab": {
          "base_uri": "https://localhost:8080/"
        },
        "outputId": "da3359a5-e58f-498a-fc65-43369e0f13ad"
      },
      "source": [
        "df_results = pd.concat([\n",
        "    pd.Series(accuracy).to_frame('Accuracy'),\n",
        "    pd.Series(recall).to_frame('Recall'),\n",
        "    pd.Series(precision).to_frame('Precision'),\n",
        "    pd.Series(f1_score_dict).to_frame('F1 Score')\n",
        "], \n",
        "    axis=1)\n",
        "\n",
        "df_results"
      ],
      "execution_count": null,
      "outputs": [
        {
          "output_type": "execute_result",
          "data": {
            "text/html": [
              "<div>\n",
              "<style scoped>\n",
              "    .dataframe tbody tr th:only-of-type {\n",
              "        vertical-align: middle;\n",
              "    }\n",
              "\n",
              "    .dataframe tbody tr th {\n",
              "        vertical-align: top;\n",
              "    }\n",
              "\n",
              "    .dataframe thead th {\n",
              "        text-align: right;\n",
              "    }\n",
              "</style>\n",
              "<table border=\"1\" class=\"dataframe\">\n",
              "  <thead>\n",
              "    <tr style=\"text-align: right;\">\n",
              "      <th></th>\n",
              "      <th>Accuracy</th>\n",
              "      <th>Recall</th>\n",
              "      <th>Precision</th>\n",
              "      <th>F1 Score</th>\n",
              "    </tr>\n",
              "  </thead>\n",
              "  <tbody>\n",
              "    <tr>\n",
              "      <th>ANN Training</th>\n",
              "      <td>0.988</td>\n",
              "      <td>0.997</td>\n",
              "      <td>0.952</td>\n",
              "      <td>0.974</td>\n",
              "    </tr>\n",
              "    <tr>\n",
              "      <th>ANN Test 1</th>\n",
              "      <td>0.978</td>\n",
              "      <td>0.997</td>\n",
              "      <td>0.946</td>\n",
              "      <td>0.971</td>\n",
              "    </tr>\n",
              "    <tr>\n",
              "      <th>ANN Test 2</th>\n",
              "      <td>0.984</td>\n",
              "      <td>0.994</td>\n",
              "      <td>0.936</td>\n",
              "      <td>0.964</td>\n",
              "    </tr>\n",
              "  </tbody>\n",
              "</table>\n",
              "</div>"
            ],
            "text/plain": [
              "              Accuracy  Recall  Precision  F1 Score\n",
              "ANN Training     0.988   0.997      0.952     0.974\n",
              "ANN Test 1       0.978   0.997      0.946     0.971\n",
              "ANN Test 2       0.984   0.994      0.936     0.964"
            ]
          },
          "metadata": {
            "tags": []
          },
          "execution_count": 89
        }
      ]
    },
    {
      "cell_type": "code",
      "metadata": {
        "id": "k33MjI0TOkl0"
      },
      "source": [
        "df_results.to_excel(\"/content/ANN Model Evaluation - LH Borderline 1.xlsx\") ###########"
      ],
      "execution_count": null,
      "outputs": []
    },
    {
      "cell_type": "code",
      "metadata": {
        "id": "j0JZXDlsOkl1"
      },
      "source": [
        ""
      ],
      "execution_count": null,
      "outputs": []
    }
  ]
}